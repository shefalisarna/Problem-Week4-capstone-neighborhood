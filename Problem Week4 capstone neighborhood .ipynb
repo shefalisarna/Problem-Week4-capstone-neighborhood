{
 "cells": [
  {
   "cell_type": "markdown",
   "metadata": {},
   "source": [
    "# Paid by postal code\n",
    "\n",
    "### My brother wants to buy paper routes franchise in North America. The newspaper company pays by the number of neighborhood in each borough. The two major cities that has a franchise availability are New York and Toronto. My brother wants to explore and compare both cities to figure out which city will bring more cash flow. \n",
    "\n",
    "### We need the neighborhood data for Toronto and New York\n",
    "### We have to create data frame for neighborhoods\n",
    "### We have to create folium maps and scatter plots for comparison\n",
    "### WE have to find the number of neighborhoods and compare\n"
   ]
  }
 ],
 "metadata": {
  "kernelspec": {
   "display_name": "Python",
   "language": "python",
   "name": "conda-env-python-py"
  },
  "language_info": {
   "codemirror_mode": {
    "name": "ipython",
    "version": 3
   },
   "file_extension": ".py",
   "mimetype": "text/x-python",
   "name": "python",
   "nbconvert_exporter": "python",
   "pygments_lexer": "ipython3",
   "version": "3.6.7"
  }
 },
 "nbformat": 4,
 "nbformat_minor": 4
}
